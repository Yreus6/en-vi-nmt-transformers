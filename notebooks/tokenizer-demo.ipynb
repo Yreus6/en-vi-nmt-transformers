{
 "cells": [
  {
   "cell_type": "code",
   "execution_count": 1,
   "id": "initial_id",
   "metadata": {
    "collapsed": true,
    "ExecuteTime": {
     "end_time": "2023-10-15T06:52:57.540817400Z",
     "start_time": "2023-10-15T06:52:56.065353600Z"
    }
   },
   "outputs": [],
   "source": [
    "import torch\n",
    "from tokenizers import decoders\n",
    "\n",
    "from components.BPE.BPE_tokenizer import BPETokenizer\n",
    "from dataset.loading_data import loading_data\n",
    "from models.transformers.utils import PAD_IDX"
   ]
  },
  {
   "cell_type": "code",
   "execution_count": 2,
   "outputs": [
    {
     "name": "stdout",
     "output_type": "stream",
     "text": [
      "['<bos>', 'ÄĲáº¡i', 'Ġhá»įc', 'ĠBÃ¡ch', 'ĠKhoa', 'ĠHÃł', 'ĠNá»Ļi', '<eos>']\n",
      "[2, 4564, 558, 15504, 2564, 2379, 1979, 3]\n",
      "<bos>Đại học Bách Khoa Hà Nội<eos>\n"
     ]
    }
   ],
   "source": [
    "tokenizer = BPETokenizer.get_tokenizer('./vocab/vocab.vi.json')\n",
    "decoder = decoders.ByteLevel()\n",
    "encoding = tokenizer.encode_batch(['Đại học Bách Khoa Hà Nội'])\n",
    "print(encoding[0].tokens)\n",
    "print(encoding[0].ids)\n",
    "print(decoder.decode(encoding[0].tokens))"
   ],
   "metadata": {
    "collapsed": false,
    "ExecuteTime": {
     "end_time": "2023-10-15T06:04:27.622410800Z",
     "start_time": "2023-10-15T06:04:27.566780500Z"
    }
   },
   "id": "7fb5fd4fdc157568"
  },
  {
   "cell_type": "code",
   "execution_count": 2,
   "outputs": [],
   "source": [
    "class obj(object):\n",
    "    def __init__(self, d):\n",
    "        for k, v in d.items():\n",
    "            if isinstance(k, (list, tuple)):\n",
    "                setattr(self, k, [obj(x) if isinstance(x, dict) else x for x in v])\n",
    "            else:\n",
    "                setattr(self, k, obj(v) if isinstance(v, dict) else v)"
   ],
   "metadata": {
    "collapsed": false,
    "ExecuteTime": {
     "end_time": "2023-10-15T06:52:58.769113900Z",
     "start_time": "2023-10-15T06:52:58.765113600Z"
    }
   },
   "id": "ed9acf4b9e19d029"
  },
  {
   "cell_type": "code",
   "execution_count": 3,
   "outputs": [
    {
     "name": "stdout",
     "output_type": "stream",
     "text": [
      "tensor([[    2,     2],\n",
      "        [   16,  4683],\n",
      "        [ 4067,  1205],\n",
      "        [ 1747,   327],\n",
      "        [  946,   413],\n",
      "        [   16,   475],\n",
      "        [ 6746,   323],\n",
      "        [  652,   274],\n",
      "        [  887,   391],\n",
      "        [  626,   573],\n",
      "        [  966,   417],\n",
      "        [   15,   286],\n",
      "        [ 1985,  3440],\n",
      "        [  492,  1124],\n",
      "        [31505,   293],\n",
      "        [ 8911,   861],\n",
      "        [ 1633,  1547],\n",
      "        [ 2484,  2024],\n",
      "        [  932,    17],\n",
      "        [  415,     3],\n",
      "        [  438,     1],\n",
      "        [ 1321,     1],\n",
      "        [  455,     1],\n",
      "        [   16,     1],\n",
      "        [ 1310,     1],\n",
      "        [  717,     1],\n",
      "        [  720,     1],\n",
      "        [  327,     1],\n",
      "        [  265,     1],\n",
      "        [  344,     1],\n",
      "        [  492,     1],\n",
      "        [ 1004,     1],\n",
      "        [  293,     1],\n",
      "        [ 1387,     1],\n",
      "        [  563,     1],\n",
      "        [ 1747,     1],\n",
      "        [ 1575,     1],\n",
      "        [ 1748,     1],\n",
      "        [  261,     1],\n",
      "        [  541,     1],\n",
      "        [  540,     1],\n",
      "        [  315,     1],\n",
      "        [  946,     1],\n",
      "        [   17,     1],\n",
      "        [  916,     1],\n",
      "        [  413,     1],\n",
      "        [ 1200,     1],\n",
      "        [ 1747,     1],\n",
      "        [  946,     1],\n",
      "        [  323,     1],\n",
      "        [  410,     1],\n",
      "        [ 2062,     1],\n",
      "        [  670,     1],\n",
      "        [ 3163,     1],\n",
      "        [  438,     1],\n",
      "        [ 1545,     1],\n",
      "        [  424,     1],\n",
      "        [  261,     1],\n",
      "        [  541,     1],\n",
      "        [   17,     1],\n",
      "        [    3,     1]])\n",
      "78\n"
     ]
    }
   ],
   "source": [
    "args = {\n",
    "    'train_src_data_path': './data/train/train.en.txt',\n",
    "    'train_tgt_data_path': './data/train/train.vi.txt',\n",
    "    'val_src_data_path': './data/validation/validation.en.txt',\n",
    "    'val_tgt_data_path': './data/validation/validation.vi.txt',\n",
    "    'src_vocab_path': './vocab/vocab.en.json',\n",
    "    'tgt_vocab_path': './vocab/vocab.vi.json',\n",
    "    'batch_size': 2,\n",
    "    'num_workers': 8\n",
    "}\n",
    "\n",
    "train_loader, val_loader = loading_data(obj(args))\n",
    "\n",
    "for src, tgt in train_loader:\n",
    "    print(tgt)\n",
    "    print(sum(torch.sum(torch.where(x != PAD_IDX, 1, 0)).item() for x in tgt.transpose(0, 1)[:, 1:-1]))\n",
    "    break"
   ],
   "metadata": {
    "collapsed": false,
    "ExecuteTime": {
     "end_time": "2023-10-15T06:53:28.613178200Z",
     "start_time": "2023-10-15T06:53:00.695977200Z"
    }
   },
   "id": "f8ae498fc6abcc49"
  },
  {
   "cell_type": "code",
   "execution_count": null,
   "outputs": [],
   "source": [],
   "metadata": {
    "collapsed": false
   },
   "id": "4e922f28112f0d06"
  }
 ],
 "metadata": {
  "kernelspec": {
   "display_name": "Python 3",
   "language": "python",
   "name": "python3"
  },
  "language_info": {
   "codemirror_mode": {
    "name": "ipython",
    "version": 2
   },
   "file_extension": ".py",
   "mimetype": "text/x-python",
   "name": "python",
   "nbconvert_exporter": "python",
   "pygments_lexer": "ipython2",
   "version": "2.7.6"
  }
 },
 "nbformat": 4,
 "nbformat_minor": 5
}
